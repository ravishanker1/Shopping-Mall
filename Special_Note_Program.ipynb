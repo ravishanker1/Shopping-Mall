{
 "cells": [
  {
   "cell_type": "markdown",
   "id": "701fae81",
   "metadata": {},
   "source": [
    "<h1 style=\"color:red\"><center>Shopping Mall Customers Classification</center></h1>"
   ]
  },
  {
   "cell_type": "markdown",
   "id": "45e41f85",
   "metadata": {},
   "source": [
    "![title](https://upload.wikimedia.org/wikipedia/commons/thumb/9/91/Janak_Place_Shopping_Complex_2.jpg/800px-Janak_Place_Shopping_Complex_2.jpg?20170703045046)"
   ]
  },
  {
   "cell_type": "markdown",
   "id": "7a0ed63d",
   "metadata": {},
   "source": [
    "<h2 style=\"color:ornage\">About Data</h2>\n",
    "\n",
    "### Context\n",
    "\n",
    "You are owing a supermarket mall and through membership cards , you have some basic data about your customers like Customer ID, age, gender, annual income and spending score.\n",
    "Spending Score is something you assign to the customer based on your defined parameters like customer behavior and purchasing data\n"
   ]
  },
  {
   "cell_type": "markdown",
   "id": "709214d8",
   "metadata": {},
   "source": [
    "![title](https://www.researchgate.net/profile/Julia-Bergmann-4/publication/337166847/figure/fig3/AS:824066491559942@1573484170571/Cross-Industry-Standard-Process-for-Data-Mining-CRISP-DM-in-the-style-of-Chapman-et.png)"
   ]
  },
  {
   "cell_type": "markdown",
   "id": "b4059cda",
   "metadata": {},
   "source": [
    "<h2 style=\"color:orange\">Content</h2>\n",
    "\n",
    "\n",
    "- 1.<a href=\"#1\">Bussiness Promblem</a>\n",
    "\n",
    "\n",
    "- 2.<a href=\"#2\">Data Understanding</a>\n",
    "- -  2-1.<a hred=\"#2_1\">Load Data</a>\n",
    "- -  2-2.<a hred=\"#2_2\">EDA</a>\n",
    "- 3.<a href=\"#3\">Data PreProcessing</a>\n",
    "- - 3 -1.<a href=\"#3_1\">Rename Columns</a>\n",
    "- - 3 -2.<a href=\"#3_2\">Remove Unwanted Columns</a>\n",
    "- - 3 -3.<a href=\"#3_3\">Dealing with Missing values</a>\n",
    "- - 3 -4.<a href=\"#3_4\">Encoding</a>\n",
    "- - 3 -5.<a href=\"#3_5\">Scaling</a>\n",
    "- - 3 -6.<a href=\"#3_6\">Dimensionality Reduction</a>\n",
    "- 4.<a href=\"#4\">Modelling</a>\n",
    "- 5.<a href =\"#5\">Evaluation</a>"
   ]
  },
  {
   "cell_type": "markdown",
   "id": "d933b38d",
   "metadata": {},
   "source": [
    "<a id=\"1\"></a>\n",
    "<h3 style=\"color:blue\">1.Bussiness Promblem</h3>\n",
    "\n",
    "You own the mall and want to understand the customers like who can be easily converge [Target Customers] so that the sense can be given to marketing team and plan the strategy accordingly."
   ]
  },
  {
   "cell_type": "markdown",
   "id": "8c377ec8",
   "metadata": {},
   "source": [
    "<h3 style=\"color:blue\">2.Data Understanding</h3>\n",
    "<a id=\"2\"></a>"
   ]
  },
  {
   "cell_type": "markdown",
   "id": "31c76507",
   "metadata": {},
   "source": [
    "<h4 style=\"color:skyblue\">2.1 load data & Required libiraries</h4>\n",
    "<a id=\"2_1\"></a>\n"
   ]
  },
  {
   "cell_type": "code",
   "execution_count": 1,
   "id": "7a8954a5",
   "metadata": {},
   "outputs": [],
   "source": [
    "# EDA\n",
    "import pandas as pd\n",
    "import numpy as np\n",
    "\n",
    "# Visualization\n",
    "import seaborn as sns\n",
    "from matplotlib.lines import Line2D \n",
    "import matplotlib.pyplot as plt\n",
    "%matplotlib inline\n",
    "\n",
    "# Scaling\n",
    "from sklearn.preprocessing import StandardScaler\n",
    "\n",
    "# Dimensional\n",
    "from sklearn.decomposition import PCA\n",
    "\n",
    "# Clustering\n",
    "from sklearn.cluster import KMeans\n",
    "\n",
    "# Evaluation\n",
    "from sklearn.metrics import silhouette_samples, silhouette_score"
   ]
  },
  {
   "cell_type": "markdown",
   "id": "16a5bf7d",
   "metadata": {},
   "source": [
    "**Load Dataset**"
   ]
  },
  {
   "cell_type": "code",
   "execution_count": 2,
   "id": "233b102d",
   "metadata": {},
   "outputs": [
    {
     "data": {
      "text/html": [
       "<div>\n",
       "<style scoped>\n",
       "    .dataframe tbody tr th:only-of-type {\n",
       "        vertical-align: middle;\n",
       "    }\n",
       "\n",
       "    .dataframe tbody tr th {\n",
       "        vertical-align: top;\n",
       "    }\n",
       "\n",
       "    .dataframe thead th {\n",
       "        text-align: right;\n",
       "    }\n",
       "</style>\n",
       "<table border=\"1\" class=\"dataframe\">\n",
       "  <thead>\n",
       "    <tr style=\"text-align: right;\">\n",
       "      <th></th>\n",
       "      <th>CustomerID</th>\n",
       "      <th>Genre</th>\n",
       "      <th>Age</th>\n",
       "      <th>Annual Income (k$)</th>\n",
       "      <th>Spending Score (1-100)</th>\n",
       "    </tr>\n",
       "  </thead>\n",
       "  <tbody>\n",
       "    <tr>\n",
       "      <th>0</th>\n",
       "      <td>1</td>\n",
       "      <td>Male</td>\n",
       "      <td>19</td>\n",
       "      <td>15</td>\n",
       "      <td>39</td>\n",
       "    </tr>\n",
       "    <tr>\n",
       "      <th>1</th>\n",
       "      <td>2</td>\n",
       "      <td>Male</td>\n",
       "      <td>21</td>\n",
       "      <td>15</td>\n",
       "      <td>81</td>\n",
       "    </tr>\n",
       "    <tr>\n",
       "      <th>2</th>\n",
       "      <td>3</td>\n",
       "      <td>Female</td>\n",
       "      <td>20</td>\n",
       "      <td>16</td>\n",
       "      <td>6</td>\n",
       "    </tr>\n",
       "    <tr>\n",
       "      <th>3</th>\n",
       "      <td>4</td>\n",
       "      <td>Female</td>\n",
       "      <td>23</td>\n",
       "      <td>16</td>\n",
       "      <td>77</td>\n",
       "    </tr>\n",
       "    <tr>\n",
       "      <th>4</th>\n",
       "      <td>5</td>\n",
       "      <td>Female</td>\n",
       "      <td>31</td>\n",
       "      <td>17</td>\n",
       "      <td>40</td>\n",
       "    </tr>\n",
       "  </tbody>\n",
       "</table>\n",
       "</div>"
      ],
      "text/plain": [
       "   CustomerID   Genre  Age  Annual Income (k$)  Spending Score (1-100)\n",
       "0           1    Male   19                  15                      39\n",
       "1           2    Male   21                  15                      81\n",
       "2           3  Female   20                  16                       6\n",
       "3           4  Female   23                  16                      77\n",
       "4           5  Female   31                  17                      40"
      ]
     },
     "execution_count": 2,
     "metadata": {},
     "output_type": "execute_result"
    }
   ],
   "source": [
    "df=pd.read_csv(\"Mall_Customers.csv\")\n",
    "df.head()"
   ]
  },
  {
   "cell_type": "markdown",
   "id": "0e34586e",
   "metadata": {},
   "source": [
    "<h4 style=\"color:skyblue\">2.2 EDA</h4>"
   ]
  },
  {
   "cell_type": "code",
   "execution_count": 3,
   "id": "6a5e06c7",
   "metadata": {},
   "outputs": [
    {
     "data": {
      "text/plain": [
       "(200, 5)"
      ]
     },
     "execution_count": 3,
     "metadata": {},
     "output_type": "execute_result"
    }
   ],
   "source": [
    "df.shape"
   ]
  },
  {
   "cell_type": "markdown",
   "id": "4c15f5a7",
   "metadata": {},
   "source": [
    "200 Rows and 5 Columns"
   ]
  },
  {
   "cell_type": "code",
   "execution_count": 4,
   "id": "dc0fb267",
   "metadata": {},
   "outputs": [
    {
     "data": {
      "text/plain": [
       "Index(['CustomerID', 'Genre', 'Age', 'Annual Income (k$)',\n",
       "       'Spending Score (1-100)'],\n",
       "      dtype='object')"
      ]
     },
     "execution_count": 4,
     "metadata": {},
     "output_type": "execute_result"
    }
   ],
   "source": [
    "df.columns"
   ]
  },
  {
   "cell_type": "code",
   "execution_count": 5,
   "id": "e94a5c15",
   "metadata": {},
   "outputs": [
    {
     "data": {
      "text/plain": [
       "CustomerID                 int64\n",
       "Genre                     object\n",
       "Age                        int64\n",
       "Annual Income (k$)         int64\n",
       "Spending Score (1-100)     int64\n",
       "dtype: object"
      ]
     },
     "execution_count": 5,
     "metadata": {},
     "output_type": "execute_result"
    }
   ],
   "source": [
    "df.dtypes"
   ]
  },
  {
   "cell_type": "markdown",
   "id": "26e621c4",
   "metadata": {},
   "source": [
    "One categorial variable and Three Numerical variable"
   ]
  },
  {
   "cell_type": "code",
   "execution_count": 6,
   "id": "5e100075",
   "metadata": {},
   "outputs": [
    {
     "name": "stdout",
     "output_type": "stream",
     "text": [
      "<class 'pandas.core.frame.DataFrame'>\n",
      "RangeIndex: 200 entries, 0 to 199\n",
      "Data columns (total 5 columns):\n",
      " #   Column                  Non-Null Count  Dtype \n",
      "---  ------                  --------------  ----- \n",
      " 0   CustomerID              200 non-null    int64 \n",
      " 1   Genre                   200 non-null    object\n",
      " 2   Age                     200 non-null    int64 \n",
      " 3   Annual Income (k$)      200 non-null    int64 \n",
      " 4   Spending Score (1-100)  200 non-null    int64 \n",
      "dtypes: int64(4), object(1)\n",
      "memory usage: 7.9+ KB\n"
     ]
    }
   ],
   "source": [
    "df.info()"
   ]
  },
  {
   "cell_type": "markdown",
   "id": "74efbc71",
   "metadata": {},
   "source": [
    "<h6 style=\"color:red\">Percentage</h6>"
   ]
  },
  {
   "cell_type": "code",
   "execution_count": 7,
   "id": "3cdea6a2",
   "metadata": {},
   "outputs": [
    {
     "data": {
      "text/plain": [
       "Female    56.0\n",
       "Male      44.0\n",
       "Name: Genre, dtype: float64"
      ]
     },
     "execution_count": 7,
     "metadata": {},
     "output_type": "execute_result"
    }
   ],
   "source": [
    "df[\"Genre\"].value_counts()/len(df[\"Genre\"].value_counts())"
   ]
  },
  {
   "cell_type": "markdown",
   "id": "ca3f8474",
   "metadata": {},
   "source": [
    "Female = 56 %\n",
    "Male   = 44 %"
   ]
  },
  {
   "cell_type": "code",
   "execution_count": 8,
   "id": "9786348c",
   "metadata": {},
   "outputs": [
    {
     "data": {
      "text/html": [
       "<div>\n",
       "<style scoped>\n",
       "    .dataframe tbody tr th:only-of-type {\n",
       "        vertical-align: middle;\n",
       "    }\n",
       "\n",
       "    .dataframe tbody tr th {\n",
       "        vertical-align: top;\n",
       "    }\n",
       "\n",
       "    .dataframe thead th {\n",
       "        text-align: right;\n",
       "    }\n",
       "</style>\n",
       "<table border=\"1\" class=\"dataframe\">\n",
       "  <thead>\n",
       "    <tr style=\"text-align: right;\">\n",
       "      <th></th>\n",
       "      <th>CustomerID</th>\n",
       "      <th>Age</th>\n",
       "      <th>Annual Income (k$)</th>\n",
       "      <th>Spending Score (1-100)</th>\n",
       "    </tr>\n",
       "  </thead>\n",
       "  <tbody>\n",
       "    <tr>\n",
       "      <th>count</th>\n",
       "      <td>200.000000</td>\n",
       "      <td>200.000000</td>\n",
       "      <td>200.000000</td>\n",
       "      <td>200.000000</td>\n",
       "    </tr>\n",
       "    <tr>\n",
       "      <th>mean</th>\n",
       "      <td>100.500000</td>\n",
       "      <td>38.850000</td>\n",
       "      <td>60.560000</td>\n",
       "      <td>50.200000</td>\n",
       "    </tr>\n",
       "    <tr>\n",
       "      <th>std</th>\n",
       "      <td>57.879185</td>\n",
       "      <td>13.969007</td>\n",
       "      <td>26.264721</td>\n",
       "      <td>25.823522</td>\n",
       "    </tr>\n",
       "    <tr>\n",
       "      <th>min</th>\n",
       "      <td>1.000000</td>\n",
       "      <td>18.000000</td>\n",
       "      <td>15.000000</td>\n",
       "      <td>1.000000</td>\n",
       "    </tr>\n",
       "    <tr>\n",
       "      <th>25%</th>\n",
       "      <td>50.750000</td>\n",
       "      <td>28.750000</td>\n",
       "      <td>41.500000</td>\n",
       "      <td>34.750000</td>\n",
       "    </tr>\n",
       "    <tr>\n",
       "      <th>50%</th>\n",
       "      <td>100.500000</td>\n",
       "      <td>36.000000</td>\n",
       "      <td>61.500000</td>\n",
       "      <td>50.000000</td>\n",
       "    </tr>\n",
       "    <tr>\n",
       "      <th>75%</th>\n",
       "      <td>150.250000</td>\n",
       "      <td>49.000000</td>\n",
       "      <td>78.000000</td>\n",
       "      <td>73.000000</td>\n",
       "    </tr>\n",
       "    <tr>\n",
       "      <th>max</th>\n",
       "      <td>200.000000</td>\n",
       "      <td>70.000000</td>\n",
       "      <td>137.000000</td>\n",
       "      <td>99.000000</td>\n",
       "    </tr>\n",
       "  </tbody>\n",
       "</table>\n",
       "</div>"
      ],
      "text/plain": [
       "       CustomerID         Age  Annual Income (k$)  Spending Score (1-100)\n",
       "count  200.000000  200.000000          200.000000              200.000000\n",
       "mean   100.500000   38.850000           60.560000               50.200000\n",
       "std     57.879185   13.969007           26.264721               25.823522\n",
       "min      1.000000   18.000000           15.000000                1.000000\n",
       "25%     50.750000   28.750000           41.500000               34.750000\n",
       "50%    100.500000   36.000000           61.500000               50.000000\n",
       "75%    150.250000   49.000000           78.000000               73.000000\n",
       "max    200.000000   70.000000          137.000000               99.000000"
      ]
     },
     "execution_count": 8,
     "metadata": {},
     "output_type": "execute_result"
    }
   ],
   "source": [
    "df.describe()"
   ]
  },
  {
   "cell_type": "markdown",
   "id": "504c7a54",
   "metadata": {},
   "source": [
    "<h3 style=\"color:blue\">3.Data PreProcessing</h3>\n",
    "<a id=\"3\"></a>\n"
   ]
  },
  {
   "cell_type": "markdown",
   "id": "f55f3bd4",
   "metadata": {},
   "source": [
    "<h4 style=\"color:skyblue\">3.1 Rename Column</h4>"
   ]
  },
  {
   "cell_type": "code",
   "execution_count": 9,
   "id": "81cd24f5",
   "metadata": {},
   "outputs": [],
   "source": [
    "df.rename(columns={\"Genre\":\"Gender\"},inplace=True)"
   ]
  },
  {
   "cell_type": "code",
   "execution_count": 10,
   "id": "a7ee55a3",
   "metadata": {},
   "outputs": [
    {
     "data": {
      "text/html": [
       "<div>\n",
       "<style scoped>\n",
       "    .dataframe tbody tr th:only-of-type {\n",
       "        vertical-align: middle;\n",
       "    }\n",
       "\n",
       "    .dataframe tbody tr th {\n",
       "        vertical-align: top;\n",
       "    }\n",
       "\n",
       "    .dataframe thead th {\n",
       "        text-align: right;\n",
       "    }\n",
       "</style>\n",
       "<table border=\"1\" class=\"dataframe\">\n",
       "  <thead>\n",
       "    <tr style=\"text-align: right;\">\n",
       "      <th></th>\n",
       "      <th>CustomerID</th>\n",
       "      <th>Gender</th>\n",
       "      <th>Age</th>\n",
       "      <th>Annual Income (k$)</th>\n",
       "      <th>Spending Score (1-100)</th>\n",
       "    </tr>\n",
       "  </thead>\n",
       "  <tbody>\n",
       "    <tr>\n",
       "      <th>0</th>\n",
       "      <td>1</td>\n",
       "      <td>Male</td>\n",
       "      <td>19</td>\n",
       "      <td>15</td>\n",
       "      <td>39</td>\n",
       "    </tr>\n",
       "    <tr>\n",
       "      <th>1</th>\n",
       "      <td>2</td>\n",
       "      <td>Male</td>\n",
       "      <td>21</td>\n",
       "      <td>15</td>\n",
       "      <td>81</td>\n",
       "    </tr>\n",
       "  </tbody>\n",
       "</table>\n",
       "</div>"
      ],
      "text/plain": [
       "   CustomerID Gender  Age  Annual Income (k$)  Spending Score (1-100)\n",
       "0           1   Male   19                  15                      39\n",
       "1           2   Male   21                  15                      81"
      ]
     },
     "execution_count": 10,
     "metadata": {},
     "output_type": "execute_result"
    }
   ],
   "source": [
    "df.head(2)"
   ]
  },
  {
   "cell_type": "markdown",
   "id": "0aa66436",
   "metadata": {},
   "source": [
    "<h4 style=\"color:skyblue\">3.2 Drop Useless Features</h4>"
   ]
  },
  {
   "cell_type": "code",
   "execution_count": 11,
   "id": "a43a5369",
   "metadata": {},
   "outputs": [],
   "source": [
    "df=df.drop(\"CustomerID\",axis=1)"
   ]
  },
  {
   "cell_type": "code",
   "execution_count": 12,
   "id": "97866e89",
   "metadata": {},
   "outputs": [
    {
     "data": {
      "text/html": [
       "<div>\n",
       "<style scoped>\n",
       "    .dataframe tbody tr th:only-of-type {\n",
       "        vertical-align: middle;\n",
       "    }\n",
       "\n",
       "    .dataframe tbody tr th {\n",
       "        vertical-align: top;\n",
       "    }\n",
       "\n",
       "    .dataframe thead th {\n",
       "        text-align: right;\n",
       "    }\n",
       "</style>\n",
       "<table border=\"1\" class=\"dataframe\">\n",
       "  <thead>\n",
       "    <tr style=\"text-align: right;\">\n",
       "      <th></th>\n",
       "      <th>Gender</th>\n",
       "      <th>Age</th>\n",
       "      <th>Annual Income (k$)</th>\n",
       "      <th>Spending Score (1-100)</th>\n",
       "    </tr>\n",
       "  </thead>\n",
       "  <tbody>\n",
       "    <tr>\n",
       "      <th>0</th>\n",
       "      <td>Male</td>\n",
       "      <td>19</td>\n",
       "      <td>15</td>\n",
       "      <td>39</td>\n",
       "    </tr>\n",
       "    <tr>\n",
       "      <th>1</th>\n",
       "      <td>Male</td>\n",
       "      <td>21</td>\n",
       "      <td>15</td>\n",
       "      <td>81</td>\n",
       "    </tr>\n",
       "    <tr>\n",
       "      <th>2</th>\n",
       "      <td>Female</td>\n",
       "      <td>20</td>\n",
       "      <td>16</td>\n",
       "      <td>6</td>\n",
       "    </tr>\n",
       "  </tbody>\n",
       "</table>\n",
       "</div>"
      ],
      "text/plain": [
       "   Gender  Age  Annual Income (k$)  Spending Score (1-100)\n",
       "0    Male   19                  15                      39\n",
       "1    Male   21                  15                      81\n",
       "2  Female   20                  16                       6"
      ]
     },
     "execution_count": 12,
     "metadata": {},
     "output_type": "execute_result"
    }
   ],
   "source": [
    "df.head(3)"
   ]
  },
  {
   "cell_type": "markdown",
   "id": "1399bd58",
   "metadata": {},
   "source": [
    "<h4 style=\"color:skyblue\">3.3 Null Values TreatMent</h4>"
   ]
  },
  {
   "cell_type": "code",
   "execution_count": 13,
   "id": "47495fcc",
   "metadata": {},
   "outputs": [
    {
     "data": {
      "text/plain": [
       "Gender                    0\n",
       "Age                       0\n",
       "Annual Income (k$)        0\n",
       "Spending Score (1-100)    0\n",
       "dtype: int64"
      ]
     },
     "execution_count": 13,
     "metadata": {},
     "output_type": "execute_result"
    }
   ],
   "source": [
    "df.isnull().sum()"
   ]
  },
  {
   "cell_type": "markdown",
   "id": "b029da89",
   "metadata": {},
   "source": [
    "<h4 style=\"color:skyblue\">3.4 Encoding</h4>"
   ]
  },
  {
   "cell_type": "code",
   "execution_count": 14,
   "id": "0c9d667e",
   "metadata": {},
   "outputs": [
    {
     "data": {
      "text/plain": [
       "Gender                    object\n",
       "Age                        int64\n",
       "Annual Income (k$)         int64\n",
       "Spending Score (1-100)     int64\n",
       "dtype: object"
      ]
     },
     "execution_count": 14,
     "metadata": {},
     "output_type": "execute_result"
    }
   ],
   "source": [
    "df.dtypes"
   ]
  },
  {
   "cell_type": "code",
   "execution_count": 15,
   "id": "74d3b644",
   "metadata": {},
   "outputs": [
    {
     "data": {
      "text/plain": [
       "Female    112\n",
       "Male       88\n",
       "Name: Gender, dtype: int64"
      ]
     },
     "execution_count": 15,
     "metadata": {},
     "output_type": "execute_result"
    }
   ],
   "source": [
    "df[\"Gender\"].value_counts()"
   ]
  },
  {
   "cell_type": "code",
   "execution_count": 16,
   "id": "3aa00bdd",
   "metadata": {},
   "outputs": [],
   "source": [
    "df[\"Gender\"].replace({\"Male\":1,\"Female\":0},inplace=True)"
   ]
  },
  {
   "cell_type": "code",
   "execution_count": 17,
   "id": "f5b40078",
   "metadata": {},
   "outputs": [
    {
     "data": {
      "text/html": [
       "<div>\n",
       "<style scoped>\n",
       "    .dataframe tbody tr th:only-of-type {\n",
       "        vertical-align: middle;\n",
       "    }\n",
       "\n",
       "    .dataframe tbody tr th {\n",
       "        vertical-align: top;\n",
       "    }\n",
       "\n",
       "    .dataframe thead th {\n",
       "        text-align: right;\n",
       "    }\n",
       "</style>\n",
       "<table border=\"1\" class=\"dataframe\">\n",
       "  <thead>\n",
       "    <tr style=\"text-align: right;\">\n",
       "      <th></th>\n",
       "      <th>Gender</th>\n",
       "      <th>Age</th>\n",
       "      <th>Annual Income (k$)</th>\n",
       "      <th>Spending Score (1-100)</th>\n",
       "    </tr>\n",
       "  </thead>\n",
       "  <tbody>\n",
       "    <tr>\n",
       "      <th>0</th>\n",
       "      <td>1</td>\n",
       "      <td>19</td>\n",
       "      <td>15</td>\n",
       "      <td>39</td>\n",
       "    </tr>\n",
       "    <tr>\n",
       "      <th>1</th>\n",
       "      <td>1</td>\n",
       "      <td>21</td>\n",
       "      <td>15</td>\n",
       "      <td>81</td>\n",
       "    </tr>\n",
       "    <tr>\n",
       "      <th>2</th>\n",
       "      <td>0</td>\n",
       "      <td>20</td>\n",
       "      <td>16</td>\n",
       "      <td>6</td>\n",
       "    </tr>\n",
       "  </tbody>\n",
       "</table>\n",
       "</div>"
      ],
      "text/plain": [
       "   Gender  Age  Annual Income (k$)  Spending Score (1-100)\n",
       "0       1   19                  15                      39\n",
       "1       1   21                  15                      81\n",
       "2       0   20                  16                       6"
      ]
     },
     "execution_count": 17,
     "metadata": {},
     "output_type": "execute_result"
    }
   ],
   "source": [
    "df.head(3)"
   ]
  },
  {
   "cell_type": "code",
   "execution_count": 18,
   "id": "a5554b3c",
   "metadata": {},
   "outputs": [
    {
     "name": "stdout",
     "output_type": "stream",
     "text": [
      "<class 'pandas.core.frame.DataFrame'>\n",
      "RangeIndex: 200 entries, 0 to 199\n",
      "Data columns (total 4 columns):\n",
      " #   Column                  Non-Null Count  Dtype\n",
      "---  ------                  --------------  -----\n",
      " 0   Gender                  200 non-null    int64\n",
      " 1   Age                     200 non-null    int64\n",
      " 2   Annual Income (k$)      200 non-null    int64\n",
      " 3   Spending Score (1-100)  200 non-null    int64\n",
      "dtypes: int64(4)\n",
      "memory usage: 6.4 KB\n"
     ]
    }
   ],
   "source": [
    "df.info()"
   ]
  },
  {
   "cell_type": "markdown",
   "id": "8cce0e7e",
   "metadata": {},
   "source": [
    "**Everything Look's Good I will do  Scaling and dimension reduction after visualzation**"
   ]
  },
  {
   "cell_type": "markdown",
   "id": "6d336d71",
   "metadata": {},
   "source": [
    "<h3 style=\"color:green\"><center>Story Telling  & Visualization<center></h3>"
   ]
  },
  {
   "cell_type": "markdown",
   "id": "1f6bd922",
   "metadata": {},
   "source": [
    " - Lets First Check Which Features coorelated "
   ]
  },
  {
   "cell_type": "code",
   "execution_count": 19,
   "id": "d74441d1",
   "metadata": {},
   "outputs": [
    {
     "data": {
      "text/html": [
       "<div>\n",
       "<style scoped>\n",
       "    .dataframe tbody tr th:only-of-type {\n",
       "        vertical-align: middle;\n",
       "    }\n",
       "\n",
       "    .dataframe tbody tr th {\n",
       "        vertical-align: top;\n",
       "    }\n",
       "\n",
       "    .dataframe thead th {\n",
       "        text-align: right;\n",
       "    }\n",
       "</style>\n",
       "<table border=\"1\" class=\"dataframe\">\n",
       "  <thead>\n",
       "    <tr style=\"text-align: right;\">\n",
       "      <th></th>\n",
       "      <th>Gender</th>\n",
       "      <th>Age</th>\n",
       "      <th>Annual Income (k$)</th>\n",
       "      <th>Spending Score (1-100)</th>\n",
       "    </tr>\n",
       "  </thead>\n",
       "  <tbody>\n",
       "    <tr>\n",
       "      <th>Gender</th>\n",
       "      <td>1.000000</td>\n",
       "      <td>0.060867</td>\n",
       "      <td>0.056410</td>\n",
       "      <td>-0.058109</td>\n",
       "    </tr>\n",
       "    <tr>\n",
       "      <th>Age</th>\n",
       "      <td>0.060867</td>\n",
       "      <td>1.000000</td>\n",
       "      <td>-0.012398</td>\n",
       "      <td>-0.327227</td>\n",
       "    </tr>\n",
       "    <tr>\n",
       "      <th>Annual Income (k$)</th>\n",
       "      <td>0.056410</td>\n",
       "      <td>-0.012398</td>\n",
       "      <td>1.000000</td>\n",
       "      <td>0.009903</td>\n",
       "    </tr>\n",
       "    <tr>\n",
       "      <th>Spending Score (1-100)</th>\n",
       "      <td>-0.058109</td>\n",
       "      <td>-0.327227</td>\n",
       "      <td>0.009903</td>\n",
       "      <td>1.000000</td>\n",
       "    </tr>\n",
       "  </tbody>\n",
       "</table>\n",
       "</div>"
      ],
      "text/plain": [
       "                          Gender       Age  Annual Income (k$)  \\\n",
       "Gender                  1.000000  0.060867            0.056410   \n",
       "Age                     0.060867  1.000000           -0.012398   \n",
       "Annual Income (k$)      0.056410 -0.012398            1.000000   \n",
       "Spending Score (1-100) -0.058109 -0.327227            0.009903   \n",
       "\n",
       "                        Spending Score (1-100)  \n",
       "Gender                               -0.058109  \n",
       "Age                                  -0.327227  \n",
       "Annual Income (k$)                    0.009903  \n",
       "Spending Score (1-100)                1.000000  "
      ]
     },
     "execution_count": 19,
     "metadata": {},
     "output_type": "execute_result"
    }
   ],
   "source": [
    "correlation=df.corr()\n",
    "correlation"
   ]
  },
  {
   "cell_type": "code",
   "execution_count": 20,
   "id": "4d1200a1",
   "metadata": {},
   "outputs": [
    {
     "data": {
      "image/png": "[encoded data removed]",
      "text/plain": [
       "<Figure size 432x288 with 2 Axes>"
      ]
     },
     "metadata": {
      "needs_background": "light"
     },
     "output_type": "display_data"
    }
   ],
   "source": [
    "sns.heatmap(correlation,annot=True,cmap='coolwarm')\n",
    "plt.show()"
   ]
  },
  {
   "attachments": {
    "image.png": {
     "image/png": "[encoded data removed]"
    }
   },
   "cell_type": "markdown",
   "id": "c41d3751",
   "metadata": {},
   "source": [
    "![image.png](attachment:image.png)"
   ]
  },
  {
   "cell_type": "markdown",
   "id": "ec4bd216",
   "metadata": {},
   "source": [
    "**Observations :**\n",
    "- Heat map showing the Age is highly coorleated with spending score\n",
    "- We can analyse the age and spending score"
   ]
  },
  {
   "cell_type": "markdown",
   "id": "d4981925",
   "metadata": {},
   "source": [
    "<h6 style=\"color:red\">Relationship between the Gender and Spending score</h6>"
   ]
  },
  {
   "cell_type": "code",
   "execution_count": 21,
   "id": "a178d7b8",
   "metadata": {},
   "outputs": [
    {
     "data": {
      "image/png": "[encoded data removed]",
      "text/plain": [
       "<Figure size 432x288 with 2 Axes>"
      ]
     },
     "metadata": {
      "needs_background": "light"
     },
     "output_type": "display_data"
    }
   ],
   "source": [
    "# Setting the font style and Size\n",
    "plt_font={'family':'serif','size':16}\n",
    "\n",
    "#Setting the subplot postion or adjustment of subplot\n",
    "plt.subplots_adjust(left=1,bottom=1,right=2.5,top=2,wspace=0.5,hspace=None)\n",
    "\n",
    "# Note\n",
    "'''The parameters wspace and hspace specify the space reserved between Matplotlib subplots.\n",
    "    They are the fractions of axis width and height, respectively. And the parameters \n",
    "    left, right, top and bottom parameters specify four sides of the subplots'''\n",
    "\n",
    "\n",
    "plt.subplot(1,2,1)     # It is Refering Postion\n",
    "plt.pie(x=[len(df[df.Gender==1]),len(df[df.Gender==0])],labels=['Male','Female'],\n",
    "       shadow=True ,startangle=-30,explode=[0.1,0],autopct='%.0f%%')\n",
    "plt.title(\"Customers Gender\", fontdict=plt_font)\n",
    "\n",
    "plt.subplot(1,2,2)    # It is Refering Postion\n",
    "male_avg_score=df[df.Gender==1]['Spending Score (1-100)'].mean()\n",
    "female_avg_score=df[df.Gender==0]['Spending Score (1-100)'].mean()\n",
    "plt.bar(x=['Male','Female'],height=[male_avg_score,female_avg_score],\n",
    "        color =['tab:Blue','tab:red'])\n",
    "plt.title(\"Customer Spending Score\",fontdict=plt_font)\n",
    "plt.xlabel(\"Gender\",fontdict=plt_font)\n",
    "plt.ylabel(\"Average Spending Score\",fontdict=plt_font)\n",
    "\n",
    "plt.text(-0.3 , 40 , 'Average = {:.2f}'.format(male_avg_score))\n",
    "plt.text(0.7 , 40 , 'Average = {:.2f}'.format(female_avg_score))\n",
    "\n",
    "plt.show()\n",
    "\n",
    "\n",
    "\n"
   ]
  },
  {
   "cell_type": "markdown",
   "id": "4099fe8e",
   "metadata": {},
   "source": [
    "**Observations :**\n",
    "- The Pie Chart Showing the Female customers are more the male customer\n",
    "- The Bar plot Showing the the Average Percenatge of female Customer Greather then male customers"
   ]
  },
  {
   "cell_type": "markdown",
   "id": "ce1094d4",
   "metadata": {},
   "source": [
    "<h6 style=\"color:red\">Relationship between the Age and Spending score</h6>"
   ]
  },
  {
   "cell_type": "code",
   "execution_count": 22,
   "id": "d90c3fd0",
   "metadata": {},
   "outputs": [
    {
     "data": {
      "text/plain": [
       "array([19, 21, 20, 23, 31, 22, 35, 64, 30, 67, 58, 24, 37, 52, 25, 46, 54,\n",
       "       29, 45, 40, 60, 53, 18, 49, 42, 36, 65, 48, 50, 27, 33, 59, 47, 51,\n",
       "       69, 70, 63, 43, 68, 32, 26, 57, 38, 55, 34, 66, 39, 44, 28, 56, 41],\n",
       "      dtype=int64)"
      ]
     },
     "execution_count": 22,
     "metadata": {},
     "output_type": "execute_result"
    }
   ],
   "source": [
    "age_list = df.Age.unique()\n",
    "age_list"
   ]
  },
  {
   "cell_type": "code",
   "execution_count": 23,
   "id": "3edd5dd1",
   "metadata": {},
   "outputs": [],
   "source": [
    "age_list.sort()\n",
    "avg_list=[]\n",
    "for age in age_list:\n",
    "    avg_list.append(df[df.Age==age]['Spending Score (1-100)'].mean())"
   ]
  },
  {
   "cell_type": "code",
   "execution_count": 24,
   "id": "0bf75868",
   "metadata": {},
   "outputs": [
    {
     "data": {
      "text/plain": [
       "[60.0,\n",
       " 39.75,\n",
       " 40.2,\n",
       " 66.8,\n",
       " 70.0,\n",
       " 63.333333333333336,\n",
       " 71.5,\n",
       " 39.666666666666664,\n",
       " 54.5,\n",
       " 60.333333333333336,\n",
       " 70.0,\n",
       " 76.6,\n",
       " 80.28571428571429,\n",
       " 63.875,\n",
       " 66.0,\n",
       " 54.333333333333336,\n",
       " 39.2,\n",
       " 63.888888888888886,\n",
       " 52.5,\n",
       " 15.333333333333334,\n",
       " 63.166666666666664,\n",
       " 84.66666666666667,\n",
       " 47.5,\n",
       " 28.0,\n",
       " 18.5,\n",
       " 34.0,\n",
       " 13.5,\n",
       " 37.666666666666664,\n",
       " 21.333333333333332,\n",
       " 28.5,\n",
       " 41.8,\n",
       " 42.714285714285715,\n",
       " 45.8,\n",
       " 46.5,\n",
       " 21.0,\n",
       " 25.0,\n",
       " 35.75,\n",
       " 58.0,\n",
       " 35.0,\n",
       " 28.0,\n",
       " 15.0,\n",
       " 33.0,\n",
       " 36.333333333333336,\n",
       " 47.0,\n",
       " 3.0,\n",
       " 43.5,\n",
       " 49.0,\n",
       " 41.5,\n",
       " 48.666666666666664,\n",
       " 46.0,\n",
       " 55.5]"
      ]
     },
     "execution_count": 24,
     "metadata": {},
     "output_type": "execute_result"
    }
   ],
   "source": [
    "avg_list"
   ]
  },
  {
   "cell_type": "code",
   "execution_count": 25,
   "id": "9f56d854",
   "metadata": {},
   "outputs": [
    {
     "data": {
      "image/png": "[encoded data removed]",
      "text/plain": [
       "<Figure size 432x288 with 1 Axes>"
      ]
     },
     "metadata": {
      "needs_background": "light"
     },
     "output_type": "display_data"
    }
   ],
   "source": [
    "plt.plot(age_list,avg_list)\n",
    "plt.xlabel('Age' , fontdict = plt_font)\n",
    "plt.ylabel('Average spending score' , fontdict = {'family':'serif' , 'size':14})\n",
    "plt.title('Spending score in different ages')\n",
    "plt.show()"
   ]
  },
  {
   "cell_type": "code",
   "execution_count": 26,
   "id": "451b507d",
   "metadata": {},
   "outputs": [
    {
     "data": {
      "text/plain": [
       "[<matplotlib.lines.Line2D at 0x1a79ce219d0>]"
      ]
     },
     "execution_count": 26,
     "metadata": {},
     "output_type": "execute_result"
    },
    {
     "data": {
      "image/png": "[encoded data removed]",
      "text/plain": [
       "<Figure size 432x288 with 1 Axes>"
      ]
     },
     "metadata": {
      "needs_background": "light"
     },
     "output_type": "display_data"
    }
   ],
   "source": [
    "plt.plot([20,70] , [40,40] , linestyle = '--' , c = 'tab:orange')"
   ]
  },
  {
   "cell_type": "code",
   "execution_count": 27,
   "id": "5f6e0608",
   "metadata": {},
   "outputs": [
    {
     "data": {
      "text/plain": [
       "[<matplotlib.lines.Line2D at 0x1a79ce9c0a0>]"
      ]
     },
     "execution_count": 27,
     "metadata": {},
     "output_type": "execute_result"
    },
    {
     "data": {
      "image/png": "[encoded data removed]",
      "text/plain": [
       "<Figure size 432x288 with 1 Axes>"
      ]
     },
     "metadata": {
      "needs_background": "light"
     },
     "output_type": "display_data"
    }
   ],
   "source": [
    "plt.plot([35,35] , [10,90] , linestyle = '--' , c = 'tab:red')"
   ]
  },
  {
   "cell_type": "code",
   "execution_count": 28,
   "id": "2584090f",
   "metadata": {},
   "outputs": [
    {
     "data": {
      "image/png": "[encoded data removed]",
      "text/plain": [
       "<Figure size 432x288 with 1 Axes>"
      ]
     },
     "metadata": {
      "needs_background": "light"
     },
     "output_type": "display_data"
    }
   ],
   "source": [
    "plt.plot(age_list,avg_list)\n",
    "plt.xlabel('Age' , fontdict = plt_font)\n",
    "plt.ylabel('Average spending score' , fontdict = {'family':'serif' , 'size':14})\n",
    "plt.title('Spending score in different ages')\n",
    "\n",
    "plt.plot([20,70] , [40,40] , linestyle = '--' , c = 'tab:orange')\n",
    "\n",
    "plt.plot([35,35] , [10,90] , linestyle = '--' , c = 'tab:red')\n",
    "\n",
    "plt.text(31,7,'Age = 35')\n",
    "\n",
    "plt.show()"
   ]
  },
  {
   "cell_type": "markdown",
   "id": "47bafb4f",
   "metadata": {},
   "source": [
    " **Observations**\n",
    " - As we seen the plot younger then 35 spending more"
   ]
  },
  {
   "cell_type": "markdown",
   "id": "74401bc4",
   "metadata": {},
   "source": [
    "<h4 style=\"color:skyblue\">3.5 Scaling</h4>"
   ]
  },
  {
   "cell_type": "markdown",
   "id": "f1ff58da",
   "metadata": {},
   "source": [
    "**Clustering algorithms such as K-means do need feature scaling before they are fed to the algorithm. Since, clustering techniques use Euclidean Distance to form the cohorts, it will be wise to scale the variables.**\n",
    "- <h5 style=\"color:brown\">Here our problem is clustering and we dont have any label or target feature.<br>So we assume that all of the features are input features.</h5>"
   ]
  },
  {
   "cell_type": "code",
   "execution_count": 29,
   "id": "be28f9ea",
   "metadata": {},
   "outputs": [],
   "source": [
    "sc= StandardScaler()\n",
    "data_scaled=sc.fit_transform(df)"
   ]
  },
  {
   "cell_type": "markdown",
   "id": "38d23be5",
   "metadata": {},
   "source": [
    "<h4 style=\"color:skyblue\">3.6 Dimensionality Reduction</h4>"
   ]
  },
  {
   "cell_type": "markdown",
   "id": "d6091e3f",
   "metadata": {},
   "source": [
    "- **Our data is 4 dimension data**\n",
    "- **So it not possible to see with human eye**\n",
    "- **Let's do dimension reduction using PCA**\n",
    "- **PCA reduces to 3D or 2D Here we converting into 2D**"
   ]
  },
  {
   "cell_type": "code",
   "execution_count": 30,
   "id": "2d3d3c31",
   "metadata": {},
   "outputs": [
    {
     "name": "stdout",
     "output_type": "stream",
     "text": [
      "Data shape after PCA : (200, 2)\n"
     ]
    }
   ],
   "source": [
    "pca = PCA(n_components = 2)\n",
    "data_pca = pca.fit_transform(data_scaled)\n",
    "print(\"Data shape after PCA :\",data_pca.shape)"
   ]
  },
  {
   "cell_type": "markdown",
   "id": "6110642e",
   "metadata": {},
   "source": [
    "<h3 style=\"color:blue\">4.Modelling</h3>\n",
    "<a id=\"4\"></a>\n"
   ]
  },
  {
   "cell_type": "markdown",
   "id": "95803bb6",
   "metadata": {},
   "source": [
    "<h4 style=\"color:red\">KMeans Clutering</h4>"
   ]
  },
  {
   "cell_type": "markdown",
   "id": "419f8724",
   "metadata": {},
   "source": [
    "<h6 style=\"color:brown\">Elbow Plot</h6>"
   ]
  },
  {
   "cell_type": "markdown",
   "id": "27785236",
   "metadata": {},
   "source": [
    "- <h6>K is a hyperparameter in KMeans algorithm.</h6>\n",
    "- <h6>WCSS : Within Cluster Sum of Squares, in other word it's sum of squared distance between each point and the centroid in a cluster</h6>\n",
    "- <h6>Lower WCSS shows a better clustering(because points in a cluster are more similar to each other, this is what we want)</h6>\n",
    "- <h6>Increasing the k value always results in a lower WCSS.</h6>\n",
    "- <h6>if we put k to be equal to the number of samples(so each point is a special cluster) then WCSS = 0 , but this is not a wise way.</h6>\n",
    "- <h6>Here we will use <u>elbow plot</u> to find the best k.</h6>\n",
    "- <h6>Elbow point will show the best k.</h6>\n",
    "- <h6>How to find this point ?</h6>\n",
    "- <h6>After this point the speed of WCSS decreasing will be lowered.</h6>"
   ]
  },
  {
   "cell_type": "code",
   "execution_count": 31,
   "id": "168e991a",
   "metadata": {},
   "outputs": [
    {
     "name": "stderr",
     "output_type": "stream",
     "text": [
      "C:\\Users\\tswar\\anaconda3\\TSWARUP\\lib\\site-packages\\sklearn\\cluster\\_kmeans.py:1036: UserWarning: KMeans is known to have a memory leak on Windows with MKL, when there are less chunks than available threads. You can avoid it by setting the environment variable OMP_NUM_THREADS=1.\n",
      "  warnings.warn(\n"
     ]
    },
    {
     "data": {
      "image/png": "[encoded data removed]",
      "text/plain": [
       "<Figure size 432x288 with 1 Axes>"
      ]
     },
     "metadata": {
      "needs_background": "light"
     },
     "output_type": "display_data"
    }
   ],
   "source": [
    "list_score=[]\n",
    "\n",
    "wcss_list = []\n",
    "for i in range(1, 15):\n",
    "    kmeans = KMeans(n_clusters = i , init = 'k-means++'  , random_state = 1)\n",
    "    kmeans.fit(data_pca) \n",
    "    wcss_list.append(kmeans.inertia_)\n",
    "\n",
    "plt.plot(range(1,15) , wcss_list)\n",
    "plt.plot([4,4] , [0 , 500] , linestyle = '--' , alpha = 0.7)\n",
    "plt.text(4.2 , 300 , 'Elbow = 4')\n",
    "plt.xlabel('K' , fontdict = plt_font)\n",
    "plt.ylabel('WCSS' , fontdict = plt_font)\n",
    "plt.show()"
   ]
  },
  {
   "cell_type": "code",
   "execution_count": 32,
   "id": "b1d0f1c3",
   "metadata": {},
   "outputs": [],
   "source": [
    "kmeans = KMeans(n_clusters = 4 , init = 'k-means++'  , random_state = 1)\n",
    "kmeans.fit(data_pca)\n",
    "cluster_id = kmeans.predict(data_pca)"
   ]
  },
  {
   "cell_type": "code",
   "execution_count": 33,
   "id": "bec880b1",
   "metadata": {},
   "outputs": [],
   "source": [
    "result_data = pd.DataFrame()\n",
    "result_data['PC1'] = data_pca[:,0]\n",
    "result_data['PC2'] = data_pca[:,1]\n",
    "result_data['ClusterID'] = cluster_id"
   ]
  },
  {
   "cell_type": "code",
   "execution_count": 34,
   "id": "bbeef8c7",
   "metadata": {},
   "outputs": [
    {
     "data": {
      "image/png": "[encoded data removed]",
      "text/plain": [
       "<Figure size 432x288 with 1 Axes>"
      ]
     },
     "metadata": {
      "needs_background": "light"
     },
     "output_type": "display_data"
    }
   ],
   "source": [
    "cluster_colors = {0:'tab:red' , 1:'tab:green' , 2:'tab:blue' , 3:'tab:pink'}\n",
    "cluster_dict = {'Centroid':'tab:orange','Cluster0':'tab:red' , 'Cluster1':'tab:green'\n",
    "                , 'Cluster2':'tab:blue' , 'Cluster3':'tab:pink'}\n",
    "\n",
    "\n",
    "plt.scatter(x = result_data['PC1'] , y = result_data['PC2'] \n",
    "                , c = result_data['ClusterID'].map(cluster_colors))\n",
    "\n",
    "handles = [Line2D([0], [0], marker='o', color='w', markerfacecolor=v, label=k, markersize=8) for k, v in cluster_dict.items()]\n",
    "plt.legend(title='color', handles=handles, bbox_to_anchor=(1.05, 1), loc='upper left')\n",
    "\n",
    "plt.scatter(x = kmeans.cluster_centers_[:,0] , y = kmeans.cluster_centers_[:,1] , marker = 'o' , c = 'tab:orange'\n",
    "            , s = 150 , alpha = 1)\n",
    "\n",
    "plt.title(\"Clustered by KMeans\" , fontdict = plt_font)\n",
    "plt.xlabel(\"PC1\" , fontdict = plt_font)\n",
    "plt.ylabel(\"PC2\" , fontdict = plt_font)\n",
    "\n",
    "plt.show()"
   ]
  },
  {
   "cell_type": "markdown",
   "id": "3b6d6cd7",
   "metadata": {},
   "source": [
    "<h3 style=\"color:blue\">5.Evalution</h3>\n",
    "<a id=\"5\"></a>"
   ]
  },
  {
   "cell_type": "markdown",
   "id": "847291a5",
   "metadata": {},
   "source": [
    "What is silhouette in K means?\n",
    "\n",
    "The silhouette coefficient is a measure of how similar a data point is within-cluster (cohesion) compared to other clusters (separation)"
   ]
  },
  {
   "cell_type": "code",
   "execution_count": 35,
   "id": "ba6ebcbe",
   "metadata": {},
   "outputs": [
    {
     "name": "stdout",
     "output_type": "stream",
     "text": [
      "The average silhouette_score is : 0.4164156778177485\n"
     ]
    }
   ],
   "source": [
    "silhouette_avg = silhouette_score(data_pca,cluster_id)\n",
    "print(\"The average silhouette_score is :\", silhouette_avg)"
   ]
  },
  {
   "cell_type": "code",
   "execution_count": 36,
   "id": "1d5e602d",
   "metadata": {},
   "outputs": [
    {
     "name": "stdout",
     "output_type": "stream",
     "text": [
      "The average silhouette_score is for 2 cluster 0.40139995663275657\n",
      "The average silhouette_score is for 3 cluster 0.388244496829095\n",
      "The average silhouette_score is for 4 cluster 0.4164156778177485\n",
      "The average silhouette_score is for 5 cluster 0.3877934284115009\n",
      "The average silhouette_score is for 6 cluster 0.3938770298951967\n",
      "The average silhouette_score is for 7 cluster 0.38303624355157695\n",
      "The average silhouette_score is for 8 cluster 0.37981724141426676\n",
      "The average silhouette_score is for 9 cluster 0.3790466386745573\n",
      "The average silhouette_score is for 10 cluster 0.3721006098065412\n",
      "The average silhouette_score is for 11 cluster 0.37253911624185265\n",
      "The average silhouette_score is for 12 cluster 0.3779514316591157\n",
      "The average silhouette_score is for 13 cluster 0.3793938362308335\n",
      "The average silhouette_score is for 14 cluster 0.3866322829144158\n"
     ]
    }
   ],
   "source": [
    "# Checking The various cluster\n",
    "for i in range(2,15):\n",
    "    kmeans = KMeans(n_clusters = i , init = 'k-means++'  , random_state = 1)\n",
    "    kmeans.fit(data_pca)\n",
    "    cluster_id = kmeans.predict(data_pca)\n",
    "    silhouette_avg = silhouette_score(data_pca,cluster_id)\n",
    "    print(\"The average silhouette_score is for {} cluster\".format(i), silhouette_avg)"
   ]
  },
  {
   "cell_type": "markdown",
   "id": "024c25a3",
   "metadata": {},
   "source": [
    " **4 Cluster Giving Better Results**"
   ]
  }
 ],
 "metadata": {
  "kernelspec": {
   "display_name": "Python 3 (ipykernel)",
   "language": "python",
   "name": "python3"
  },
  "language_info": {
   "codemirror_mode": {
    "name": "ipython",
    "version": 3
   },
   "file_extension": ".py",
   "mimetype": "text/x-python",
   "name": "python",
   "nbconvert_exporter": "python",
   "pygments_lexer": "ipython3",
   "version": "3.9.7"
  }
 },
 "nbformat": 4,
 "nbformat_minor": 5
}
